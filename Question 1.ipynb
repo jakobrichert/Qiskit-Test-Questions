{
 "cells": [
  {
   "cell_type": "code",
   "execution_count": 2,
   "id": "452d11b3",
   "metadata": {},
   "outputs": [],
   "source": [
    "#Question 1\n",
    "from qiskit import *"
   ]
  },
  {
   "cell_type": "code",
   "execution_count": 3,
   "id": "a62279c7",
   "metadata": {},
   "outputs": [
    {
     "data": {
      "text/plain": [
       "<qiskit.circuit.instructionset.InstructionSet at 0x7f720cf84f70>"
      ]
     },
     "execution_count": 3,
     "metadata": {},
     "output_type": "execute_result"
    }
   ],
   "source": [
    "#Which of the following commands will convert the below quantum circuit to qasm string?\n",
    "\n",
    "qc = QuantumCircuit(3,3)\n",
    "qc.h(0)\n",
    "qc.h(1)"
   ]
  },
  {
   "cell_type": "code",
   "execution_count": 5,
   "id": "a9b58ff9",
   "metadata": {},
   "outputs": [
    {
     "data": {
      "text/plain": [
       "'OPENQASM 2.0;\\ninclude \"qelib1.inc\";\\nqreg q[3];\\ncreg c[3];\\nh q[0];\\nh q[1];\\n'"
      ]
     },
     "execution_count": 5,
     "metadata": {},
     "output_type": "execute_result"
    }
   ],
   "source": [
    "qc.qasm()"
   ]
  },
  {
   "cell_type": "code",
   "execution_count": null,
   "id": "711c7064",
   "metadata": {},
   "outputs": [],
   "source": []
  }
 ],
 "metadata": {
  "kernelspec": {
   "display_name": "Python 3 (ipykernel)",
   "language": "python",
   "name": "python3"
  },
  "language_info": {
   "codemirror_mode": {
    "name": "ipython",
    "version": 3
   },
   "file_extension": ".py",
   "mimetype": "text/x-python",
   "name": "python",
   "nbconvert_exporter": "python",
   "pygments_lexer": "ipython3",
   "version": "3.8.8"
  }
 },
 "nbformat": 4,
 "nbformat_minor": 5
}
