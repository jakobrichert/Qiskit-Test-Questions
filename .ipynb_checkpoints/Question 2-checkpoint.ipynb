{
 "cells": [
  {
   "cell_type": "code",
   "execution_count": 1,
   "id": "4aaa8b4d",
   "metadata": {},
   "outputs": [],
   "source": [
    "#Question 2\n",
    "#What is the depth of this quantum circuit?\n",
    "from qiskit import *\n",
    "import matplotlib"
   ]
  },
  {
   "cell_type": "code",
   "execution_count": 11,
   "id": "aa7bb9c1",
   "metadata": {},
   "outputs": [],
   "source": [
    "qc = QuantumCircuit(3)"
   ]
  },
  {
   "cell_type": "code",
   "execution_count": 13,
   "id": "b683b87b",
   "metadata": {},
   "outputs": [
    {
     "data": {
      "image/png": "[encoded data removed]",
      "text/plain": [
       "<Figure size 146.797x204.68 with 1 Axes>"
      ]
     },
     "execution_count": 13,
     "metadata": {},
     "output_type": "execute_result"
    }
   ],
   "source": [
    "qc.h(0)\n",
    "qc.x(1)\n",
    "qc.h(2)\n",
    "\n",
    "\n",
    "\n",
    "qc.draw(output = 'mpl')\n"
   ]
  },
  {
   "cell_type": "code",
   "execution_count": 14,
   "id": "aabcd3f9",
   "metadata": {},
   "outputs": [
    {
     "name": "stdout",
     "output_type": "stream",
     "text": [
      "The circuit depth is: 1\n"
     ]
    }
   ],
   "source": [
    "print(\"The circuit depth is:\", qc.depth())"
   ]
  },
  {
   "cell_type": "code",
   "execution_count": null,
   "id": "f5d08be9",
   "metadata": {},
   "outputs": [],
   "source": []
  }
 ],
 "metadata": {
  "kernelspec": {
   "display_name": "Python 3 (ipykernel)",
   "language": "python",
   "name": "python3"
  },
  "language_info": {
   "codemirror_mode": {
    "name": "ipython",
    "version": 3
   },
   "file_extension": ".py",
   "mimetype": "text/x-python",
   "name": "python",
   "nbconvert_exporter": "python",
   "pygments_lexer": "ipython3",
   "version": "3.8.8"
  }
 },
 "nbformat": 4,
 "nbformat_minor": 5
}
